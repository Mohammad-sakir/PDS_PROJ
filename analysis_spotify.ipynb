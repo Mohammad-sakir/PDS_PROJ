{
 "cells": [
  {
   "cell_type": "code",
   "execution_count": 2,
   "metadata": {},
   "outputs": [],
   "source": [
    "import pandas as pd\n",
    "import seaborn as sns \n",
    "\n",
    "from matplotlib import pyplot as plt \n",
    "%matplotlib inline\n",
    "sns.set_style(\"whitegrid\")\n",
    "sns.set(rc={'figure.figsize':(11.7,8.27)})\n",
    "\n",
    "import warnings \n",
    "warnings.filterwarnings(\"ignore\")"
   ]
  },
  {
   "cell_type": "code",
   "execution_count": 3,
   "metadata": {},
   "outputs": [],
   "source": [
    "df = pd.read_csv(\"SpotifyFeatures.csv\")"
   ]
  },
  {
   "cell_type": "markdown",
   "metadata": {},
   "source": [
    "### <b>Data Description</b>\n",
    "<font size=3>\n",
    "\n",
    "- <b>instance_id : </b> Serial number of the song in the dataset.\n",
    "- <b>artist_name :</b> Name of the artist of the song.\n",
    "- <b>track_name :</b> Title of the song.\n",
    "- <b>popularity :</b> An arbitrary score assigned to the song in the range of 0-100 with 100 being most popular and 0 being least.\n",
    "- <b>acousticness :</b> This value describes how acoustic a song is. A score of 1.0 means the song is most likely to be an acoustic one.\n",
    "- <b>danceability :</b> Danceability describes how suitable a track is for dancing based on a combination of musical elements. A value of 0.0 is least danceable and 1.0 is most danceable\n",
    "- <b>duration_ms :</b> Is the duration in milliseconds of the song.\n",
    "- <b>energy :</b> Represents how energetic the song is. The range of this field is between [0-1] with 1 being song with highest energy and 0 with lowest.\n",
    "- <b>instrumentalness :</b> This value represents the amount of vocals in the song. The closer it is to 1.0, the more instrumental the song is\n",
    "- <b>key :</b> Key of a piece is the group of pitches, or scale, that forms the basis of a music composition.\n",
    "- <b>liveness :</b> This value describes the probability that the song was recorded with a live audience.\n",
    "- <b>loudness :</b> Column representing how loud the song is.\n",
    "- <b>mode :</b> Major and Minor scales that the song is based upon.\n",
    "- <b>speechiness :</b> Speechiness detects the presence of spoken words in a track.\n",
    "- <b>tempo :</b> Speed at which the song is being played.\n",
    "- <b>time_signature :</b> The date at which the song metadata was retrieved.\n",
    "- <b>valence :</b> A measure from 0.0 to 1.0 describing the musical positiveness conveyed by a track. Tracks with high valence sound more positive.\n",
    "- <b>music_genre :</b> The actual category to which the song belongs. This is our target variable.\n",
    "\n",
    "</font>\n",
    "\n",
    "<font color='red'> <b>NOTE: </b> </font> Description of the dataset was derived from [this notebook](https://www.kaggle.com/ashwinrachha1/thrasio-data-science-assesment)\n"
   ]
  },
  {
   "cell_type": "code",
   "execution_count": 6,
   "metadata": {},
   "outputs": [
    {
     "data": {
      "text/html": [
       "<div>\n",
       "<style scoped>\n",
       "    .dataframe tbody tr th:only-of-type {\n",
       "        vertical-align: middle;\n",
       "    }\n",
       "\n",
       "    .dataframe tbody tr th {\n",
       "        vertical-align: top;\n",
       "    }\n",
       "\n",
       "    .dataframe thead th {\n",
       "        text-align: right;\n",
       "    }\n",
       "</style>\n",
       "<table border=\"1\" class=\"dataframe\">\n",
       "  <thead>\n",
       "    <tr style=\"text-align: right;\">\n",
       "      <th></th>\n",
       "      <th>genre</th>\n",
       "      <th>artist_name</th>\n",
       "      <th>track_name</th>\n",
       "      <th>track_id</th>\n",
       "      <th>popularity</th>\n",
       "      <th>acousticness</th>\n",
       "      <th>danceability</th>\n",
       "      <th>duration_ms</th>\n",
       "      <th>energy</th>\n",
       "      <th>instrumentalness</th>\n",
       "      <th>key</th>\n",
       "      <th>liveness</th>\n",
       "      <th>loudness</th>\n",
       "      <th>mode</th>\n",
       "      <th>speechiness</th>\n",
       "      <th>tempo</th>\n",
       "      <th>time_signature</th>\n",
       "      <th>valence</th>\n",
       "    </tr>\n",
       "  </thead>\n",
       "  <tbody>\n",
       "    <tr>\n",
       "      <th>0</th>\n",
       "      <td>Opera</td>\n",
       "      <td>Giuseppe Verdi</td>\n",
       "      <td>Stiffelio, Act III: Ei fugge! … Lina, pensai c...</td>\n",
       "      <td>7EsKYeHtTc4H4xWiTqSVZA</td>\n",
       "      <td>21</td>\n",
       "      <td>0.986</td>\n",
       "      <td>0.313</td>\n",
       "      <td>490867</td>\n",
       "      <td>0.23100</td>\n",
       "      <td>0.000431</td>\n",
       "      <td>C#</td>\n",
       "      <td>0.0964</td>\n",
       "      <td>-14.287</td>\n",
       "      <td>Major</td>\n",
       "      <td>0.0547</td>\n",
       "      <td>86.001</td>\n",
       "      <td>4/4</td>\n",
       "      <td>0.0886</td>\n",
       "    </tr>\n",
       "    <tr>\n",
       "      <th>1</th>\n",
       "      <td>Opera</td>\n",
       "      <td>Giacomo Puccini</td>\n",
       "      <td>Madama Butterfly / Act 1: ... E soffitto e pareti</td>\n",
       "      <td>7MfmRBvqaW0I6UTxXnad8p</td>\n",
       "      <td>18</td>\n",
       "      <td>0.972</td>\n",
       "      <td>0.360</td>\n",
       "      <td>176797</td>\n",
       "      <td>0.20100</td>\n",
       "      <td>0.028000</td>\n",
       "      <td>D#</td>\n",
       "      <td>0.1330</td>\n",
       "      <td>-19.794</td>\n",
       "      <td>Major</td>\n",
       "      <td>0.0581</td>\n",
       "      <td>131.798</td>\n",
       "      <td>4/4</td>\n",
       "      <td>0.3690</td>\n",
       "    </tr>\n",
       "    <tr>\n",
       "      <th>2</th>\n",
       "      <td>Opera</td>\n",
       "      <td>Giacomo Puccini</td>\n",
       "      <td>Turandot / Act 2: Gloria, gloria, o vincitore</td>\n",
       "      <td>7pBo1GDhIysyUMFXiDVoON</td>\n",
       "      <td>10</td>\n",
       "      <td>0.935</td>\n",
       "      <td>0.168</td>\n",
       "      <td>266184</td>\n",
       "      <td>0.47000</td>\n",
       "      <td>0.020400</td>\n",
       "      <td>C</td>\n",
       "      <td>0.3630</td>\n",
       "      <td>-8.415</td>\n",
       "      <td>Major</td>\n",
       "      <td>0.0383</td>\n",
       "      <td>75.126</td>\n",
       "      <td>3/4</td>\n",
       "      <td>0.0696</td>\n",
       "    </tr>\n",
       "    <tr>\n",
       "      <th>3</th>\n",
       "      <td>Opera</td>\n",
       "      <td>Giuseppe Verdi</td>\n",
       "      <td>Rigoletto, Act IV: Venti scudi hai tu detto?</td>\n",
       "      <td>02mvYZX5aKNzdqEo6jF20m</td>\n",
       "      <td>17</td>\n",
       "      <td>0.961</td>\n",
       "      <td>0.250</td>\n",
       "      <td>288573</td>\n",
       "      <td>0.00605</td>\n",
       "      <td>0.000000</td>\n",
       "      <td>D</td>\n",
       "      <td>0.1200</td>\n",
       "      <td>-33.440</td>\n",
       "      <td>Major</td>\n",
       "      <td>0.0480</td>\n",
       "      <td>76.493</td>\n",
       "      <td>4/4</td>\n",
       "      <td>0.0380</td>\n",
       "    </tr>\n",
       "    <tr>\n",
       "      <th>4</th>\n",
       "      <td>Opera</td>\n",
       "      <td>Giuseppe Verdi</td>\n",
       "      <td>Don Carlo / Act 4: \"Ella giammai m'amò!\"</td>\n",
       "      <td>03TW0jwGMGhUabAjOpB1T9</td>\n",
       "      <td>19</td>\n",
       "      <td>0.985</td>\n",
       "      <td>0.142</td>\n",
       "      <td>629760</td>\n",
       "      <td>0.05800</td>\n",
       "      <td>0.146000</td>\n",
       "      <td>D</td>\n",
       "      <td>0.0969</td>\n",
       "      <td>-23.625</td>\n",
       "      <td>Major</td>\n",
       "      <td>0.0493</td>\n",
       "      <td>172.935</td>\n",
       "      <td>4/4</td>\n",
       "      <td>0.0382</td>\n",
       "    </tr>\n",
       "  </tbody>\n",
       "</table>\n",
       "</div>"
      ],
      "text/plain": [
       "   genre      artist_name                                         track_name  \\\n",
       "0  Opera   Giuseppe Verdi  Stiffelio, Act III: Ei fugge! … Lina, pensai c...   \n",
       "1  Opera  Giacomo Puccini  Madama Butterfly / Act 1: ... E soffitto e pareti   \n",
       "2  Opera  Giacomo Puccini      Turandot / Act 2: Gloria, gloria, o vincitore   \n",
       "3  Opera   Giuseppe Verdi       Rigoletto, Act IV: Venti scudi hai tu detto?   \n",
       "4  Opera   Giuseppe Verdi           Don Carlo / Act 4: \"Ella giammai m'amò!\"   \n",
       "\n",
       "                 track_id  popularity  acousticness  danceability  \\\n",
       "0  7EsKYeHtTc4H4xWiTqSVZA          21         0.986         0.313   \n",
       "1  7MfmRBvqaW0I6UTxXnad8p          18         0.972         0.360   \n",
       "2  7pBo1GDhIysyUMFXiDVoON          10         0.935         0.168   \n",
       "3  02mvYZX5aKNzdqEo6jF20m          17         0.961         0.250   \n",
       "4  03TW0jwGMGhUabAjOpB1T9          19         0.985         0.142   \n",
       "\n",
       "   duration_ms   energy  instrumentalness key  liveness  loudness   mode  \\\n",
       "0       490867  0.23100          0.000431  C#    0.0964   -14.287  Major   \n",
       "1       176797  0.20100          0.028000  D#    0.1330   -19.794  Major   \n",
       "2       266184  0.47000          0.020400   C    0.3630    -8.415  Major   \n",
       "3       288573  0.00605          0.000000   D    0.1200   -33.440  Major   \n",
       "4       629760  0.05800          0.146000   D    0.0969   -23.625  Major   \n",
       "\n",
       "   speechiness    tempo time_signature  valence  \n",
       "0       0.0547   86.001            4/4   0.0886  \n",
       "1       0.0581  131.798            4/4   0.3690  \n",
       "2       0.0383   75.126            3/4   0.0696  \n",
       "3       0.0480   76.493            4/4   0.0380  \n",
       "4       0.0493  172.935            4/4   0.0382  "
      ]
     },
     "execution_count": 6,
     "metadata": {},
     "output_type": "execute_result"
    }
   ],
   "source": [
    "df.head()"
   ]
  },
  {
   "cell_type": "code",
   "execution_count": 4,
   "metadata": {},
   "outputs": [
    {
     "data": {
      "text/plain": [
       "(228159, 18)"
      ]
     },
     "execution_count": 4,
     "metadata": {},
     "output_type": "execute_result"
    }
   ],
   "source": [
    "df.shape"
   ]
  },
  {
   "cell_type": "code",
   "execution_count": 5,
   "metadata": {},
   "outputs": [
    {
     "data": {
      "text/plain": [
       "array(['4/4', '3/4', '1/4', '5/4', '0/4'], dtype=object)"
      ]
     },
     "execution_count": 5,
     "metadata": {},
     "output_type": "execute_result"
    }
   ],
   "source": [
    "df.time_signature.unique()"
   ]
  },
  {
   "cell_type": "code",
   "execution_count": 11,
   "metadata": {},
   "outputs": [
    {
     "data": {
      "text/html": [
       "<div>\n",
       "<style scoped>\n",
       "    .dataframe tbody tr th:only-of-type {\n",
       "        vertical-align: middle;\n",
       "    }\n",
       "\n",
       "    .dataframe tbody tr th {\n",
       "        vertical-align: top;\n",
       "    }\n",
       "\n",
       "    .dataframe thead th {\n",
       "        text-align: right;\n",
       "    }\n",
       "</style>\n",
       "<table border=\"1\" class=\"dataframe\">\n",
       "  <thead>\n",
       "    <tr style=\"text-align: right;\">\n",
       "      <th></th>\n",
       "      <th>genre</th>\n",
       "      <th>artist_name</th>\n",
       "      <th>track_name</th>\n",
       "      <th>track_id</th>\n",
       "      <th>popularity</th>\n",
       "      <th>acousticness</th>\n",
       "      <th>danceability</th>\n",
       "      <th>duration_ms</th>\n",
       "      <th>energy</th>\n",
       "      <th>instrumentalness</th>\n",
       "      <th>key</th>\n",
       "      <th>liveness</th>\n",
       "      <th>loudness</th>\n",
       "      <th>mode</th>\n",
       "      <th>speechiness</th>\n",
       "      <th>tempo</th>\n",
       "      <th>time_signature</th>\n",
       "      <th>valence</th>\n",
       "    </tr>\n",
       "  </thead>\n",
       "  <tbody>\n",
       "    <tr>\n",
       "      <th>9543</th>\n",
       "      <td>Alternative</td>\n",
       "      <td>Linkin Park</td>\n",
       "      <td>Breaking The Habit</td>\n",
       "      <td>4HcDu9IGRCvSTJE4yW5Ugv</td>\n",
       "      <td>60</td>\n",
       "      <td>0.10800</td>\n",
       "      <td>0.579</td>\n",
       "      <td>196907</td>\n",
       "      <td>0.8490</td>\n",
       "      <td>0.000000</td>\n",
       "      <td>E</td>\n",
       "      <td>0.0909</td>\n",
       "      <td>-5.218</td>\n",
       "      <td>Minor</td>\n",
       "      <td>0.0303</td>\n",
       "      <td>100.021</td>\n",
       "      <td>4/4</td>\n",
       "      <td>0.5810</td>\n",
       "    </tr>\n",
       "    <tr>\n",
       "      <th>94915</th>\n",
       "      <td>Children’s Music</td>\n",
       "      <td>MED</td>\n",
       "      <td>Drive In</td>\n",
       "      <td>6mBbycgdWgHMPNyJLCEoW6</td>\n",
       "      <td>49</td>\n",
       "      <td>0.07900</td>\n",
       "      <td>0.484</td>\n",
       "      <td>239787</td>\n",
       "      <td>0.6600</td>\n",
       "      <td>0.000004</td>\n",
       "      <td>C</td>\n",
       "      <td>0.3330</td>\n",
       "      <td>-11.224</td>\n",
       "      <td>Major</td>\n",
       "      <td>0.1460</td>\n",
       "      <td>88.418</td>\n",
       "      <td>4/4</td>\n",
       "      <td>0.5880</td>\n",
       "    </tr>\n",
       "    <tr>\n",
       "      <th>202296</th>\n",
       "      <td>World</td>\n",
       "      <td>Sean Feucht</td>\n",
       "      <td>There Is a Name (Live)</td>\n",
       "      <td>1c4djybfa6TS07oMspWYfL</td>\n",
       "      <td>36</td>\n",
       "      <td>0.02730</td>\n",
       "      <td>0.415</td>\n",
       "      <td>551027</td>\n",
       "      <td>0.5810</td>\n",
       "      <td>0.000000</td>\n",
       "      <td>C#</td>\n",
       "      <td>0.6660</td>\n",
       "      <td>-9.240</td>\n",
       "      <td>Major</td>\n",
       "      <td>0.0409</td>\n",
       "      <td>145.734</td>\n",
       "      <td>4/4</td>\n",
       "      <td>0.1930</td>\n",
       "    </tr>\n",
       "    <tr>\n",
       "      <th>163019</th>\n",
       "      <td>Reggaeton</td>\n",
       "      <td>Zion &amp; Lennox</td>\n",
       "      <td>Pierdo la Cabeza (DJ Lobo Remix) [feat. Shadow...</td>\n",
       "      <td>3IOFEAybqg6nesj2uS0Fyp</td>\n",
       "      <td>28</td>\n",
       "      <td>0.52700</td>\n",
       "      <td>0.804</td>\n",
       "      <td>234581</td>\n",
       "      <td>0.7920</td>\n",
       "      <td>0.000000</td>\n",
       "      <td>C</td>\n",
       "      <td>0.3110</td>\n",
       "      <td>-5.774</td>\n",
       "      <td>Major</td>\n",
       "      <td>0.0489</td>\n",
       "      <td>93.014</td>\n",
       "      <td>4/4</td>\n",
       "      <td>0.7250</td>\n",
       "    </tr>\n",
       "    <tr>\n",
       "      <th>122779</th>\n",
       "      <td>Comedy</td>\n",
       "      <td>Alonzo Bodden</td>\n",
       "      <td>Who to Hate</td>\n",
       "      <td>622Vae2RIfutYxheq6HC61</td>\n",
       "      <td>10</td>\n",
       "      <td>0.86000</td>\n",
       "      <td>0.615</td>\n",
       "      <td>68267</td>\n",
       "      <td>0.5550</td>\n",
       "      <td>0.000000</td>\n",
       "      <td>G</td>\n",
       "      <td>0.8780</td>\n",
       "      <td>-11.452</td>\n",
       "      <td>Major</td>\n",
       "      <td>0.9650</td>\n",
       "      <td>170.765</td>\n",
       "      <td>3/4</td>\n",
       "      <td>0.7120</td>\n",
       "    </tr>\n",
       "    <tr>\n",
       "      <th>103744</th>\n",
       "      <td>Rap</td>\n",
       "      <td>Night Lovell</td>\n",
       "      <td>PAIN</td>\n",
       "      <td>3PgRUeQuuY94FkKdDBbKvq</td>\n",
       "      <td>57</td>\n",
       "      <td>0.45800</td>\n",
       "      <td>0.833</td>\n",
       "      <td>152348</td>\n",
       "      <td>0.6460</td>\n",
       "      <td>0.387000</td>\n",
       "      <td>A#</td>\n",
       "      <td>0.0845</td>\n",
       "      <td>-8.015</td>\n",
       "      <td>Minor</td>\n",
       "      <td>0.0361</td>\n",
       "      <td>115.005</td>\n",
       "      <td>4/4</td>\n",
       "      <td>0.2950</td>\n",
       "    </tr>\n",
       "    <tr>\n",
       "      <th>98695</th>\n",
       "      <td>Rap</td>\n",
       "      <td>Linkin Park</td>\n",
       "      <td>Given Up</td>\n",
       "      <td>1fLlRApgzxWweF1JTf8yM5</td>\n",
       "      <td>68</td>\n",
       "      <td>0.00117</td>\n",
       "      <td>0.655</td>\n",
       "      <td>189293</td>\n",
       "      <td>0.8850</td>\n",
       "      <td>0.000473</td>\n",
       "      <td>G</td>\n",
       "      <td>0.0448</td>\n",
       "      <td>-4.116</td>\n",
       "      <td>Major</td>\n",
       "      <td>0.0438</td>\n",
       "      <td>100.088</td>\n",
       "      <td>4/4</td>\n",
       "      <td>0.9380</td>\n",
       "    </tr>\n",
       "    <tr>\n",
       "      <th>218272</th>\n",
       "      <td>Rock</td>\n",
       "      <td>Chubby Checker</td>\n",
       "      <td>The Twist</td>\n",
       "      <td>3ohLnESFgYACPMCkoTOzqE</td>\n",
       "      <td>59</td>\n",
       "      <td>0.20200</td>\n",
       "      <td>0.533</td>\n",
       "      <td>153760</td>\n",
       "      <td>0.6380</td>\n",
       "      <td>0.000000</td>\n",
       "      <td>E</td>\n",
       "      <td>0.0729</td>\n",
       "      <td>-7.130</td>\n",
       "      <td>Major</td>\n",
       "      <td>0.0341</td>\n",
       "      <td>156.663</td>\n",
       "      <td>4/4</td>\n",
       "      <td>0.9370</td>\n",
       "    </tr>\n",
       "    <tr>\n",
       "      <th>116060</th>\n",
       "      <td>Classical</td>\n",
       "      <td>Antonín Dvořák</td>\n",
       "      <td>Rusalka, Op. 114, B. 203, Act I: Staletá moudr...</td>\n",
       "      <td>74oWMEQnnOsDnZwiQL7IT0</td>\n",
       "      <td>0</td>\n",
       "      <td>0.97500</td>\n",
       "      <td>0.245</td>\n",
       "      <td>444480</td>\n",
       "      <td>0.1190</td>\n",
       "      <td>0.000015</td>\n",
       "      <td>D</td>\n",
       "      <td>0.0643</td>\n",
       "      <td>-18.596</td>\n",
       "      <td>Major</td>\n",
       "      <td>0.0804</td>\n",
       "      <td>68.382</td>\n",
       "      <td>4/4</td>\n",
       "      <td>0.0473</td>\n",
       "    </tr>\n",
       "    <tr>\n",
       "      <th>116828</th>\n",
       "      <td>Classical</td>\n",
       "      <td>Frédéric Chopin</td>\n",
       "      <td>Nocturnes, Op. 15: No. 2 in F sharp major. Lar...</td>\n",
       "      <td>4YBw6EAdwlm69OY2F08dEM</td>\n",
       "      <td>44</td>\n",
       "      <td>0.99300</td>\n",
       "      <td>0.281</td>\n",
       "      <td>216093</td>\n",
       "      <td>0.0202</td>\n",
       "      <td>0.910000</td>\n",
       "      <td>F#</td>\n",
       "      <td>0.1270</td>\n",
       "      <td>-26.099</td>\n",
       "      <td>Major</td>\n",
       "      <td>0.0395</td>\n",
       "      <td>77.814</td>\n",
       "      <td>4/4</td>\n",
       "      <td>0.0655</td>\n",
       "    </tr>\n",
       "  </tbody>\n",
       "</table>\n",
       "</div>"
      ],
      "text/plain": [
       "                   genre      artist_name  \\\n",
       "9543         Alternative      Linkin Park   \n",
       "94915   Children’s Music              MED   \n",
       "202296             World      Sean Feucht   \n",
       "163019         Reggaeton    Zion & Lennox   \n",
       "122779            Comedy    Alonzo Bodden   \n",
       "103744               Rap     Night Lovell   \n",
       "98695                Rap      Linkin Park   \n",
       "218272              Rock   Chubby Checker   \n",
       "116060         Classical   Antonín Dvořák   \n",
       "116828         Classical  Frédéric Chopin   \n",
       "\n",
       "                                               track_name  \\\n",
       "9543                                   Breaking The Habit   \n",
       "94915                                            Drive In   \n",
       "202296                             There Is a Name (Live)   \n",
       "163019  Pierdo la Cabeza (DJ Lobo Remix) [feat. Shadow...   \n",
       "122779                                        Who to Hate   \n",
       "103744                                               PAIN   \n",
       "98695                                            Given Up   \n",
       "218272                                          The Twist   \n",
       "116060  Rusalka, Op. 114, B. 203, Act I: Staletá moudr...   \n",
       "116828  Nocturnes, Op. 15: No. 2 in F sharp major. Lar...   \n",
       "\n",
       "                      track_id  popularity  acousticness  danceability  \\\n",
       "9543    4HcDu9IGRCvSTJE4yW5Ugv          60       0.10800         0.579   \n",
       "94915   6mBbycgdWgHMPNyJLCEoW6          49       0.07900         0.484   \n",
       "202296  1c4djybfa6TS07oMspWYfL          36       0.02730         0.415   \n",
       "163019  3IOFEAybqg6nesj2uS0Fyp          28       0.52700         0.804   \n",
       "122779  622Vae2RIfutYxheq6HC61          10       0.86000         0.615   \n",
       "103744  3PgRUeQuuY94FkKdDBbKvq          57       0.45800         0.833   \n",
       "98695   1fLlRApgzxWweF1JTf8yM5          68       0.00117         0.655   \n",
       "218272  3ohLnESFgYACPMCkoTOzqE          59       0.20200         0.533   \n",
       "116060  74oWMEQnnOsDnZwiQL7IT0           0       0.97500         0.245   \n",
       "116828  4YBw6EAdwlm69OY2F08dEM          44       0.99300         0.281   \n",
       "\n",
       "        duration_ms  energy  instrumentalness key  liveness  loudness   mode  \\\n",
       "9543         196907  0.8490          0.000000   E    0.0909    -5.218  Minor   \n",
       "94915        239787  0.6600          0.000004   C    0.3330   -11.224  Major   \n",
       "202296       551027  0.5810          0.000000  C#    0.6660    -9.240  Major   \n",
       "163019       234581  0.7920          0.000000   C    0.3110    -5.774  Major   \n",
       "122779        68267  0.5550          0.000000   G    0.8780   -11.452  Major   \n",
       "103744       152348  0.6460          0.387000  A#    0.0845    -8.015  Minor   \n",
       "98695        189293  0.8850          0.000473   G    0.0448    -4.116  Major   \n",
       "218272       153760  0.6380          0.000000   E    0.0729    -7.130  Major   \n",
       "116060       444480  0.1190          0.000015   D    0.0643   -18.596  Major   \n",
       "116828       216093  0.0202          0.910000  F#    0.1270   -26.099  Major   \n",
       "\n",
       "        speechiness    tempo time_signature  valence  \n",
       "9543         0.0303  100.021            4/4   0.5810  \n",
       "94915        0.1460   88.418            4/4   0.5880  \n",
       "202296       0.0409  145.734            4/4   0.1930  \n",
       "163019       0.0489   93.014            4/4   0.7250  \n",
       "122779       0.9650  170.765            3/4   0.7120  \n",
       "103744       0.0361  115.005            4/4   0.2950  \n",
       "98695        0.0438  100.088            4/4   0.9380  \n",
       "218272       0.0341  156.663            4/4   0.9370  \n",
       "116060       0.0804   68.382            4/4   0.0473  \n",
       "116828       0.0395   77.814            4/4   0.0655  "
      ]
     },
     "execution_count": 11,
     "metadata": {},
     "output_type": "execute_result"
    }
   ],
   "source": [
    "df.sample(10)"
   ]
  },
  {
   "cell_type": "code",
   "execution_count": 5,
   "metadata": {},
   "outputs": [
    {
     "name": "stdout",
     "output_type": "stream",
     "text": [
      "<class 'pandas.core.frame.DataFrame'>\n",
      "RangeIndex: 228159 entries, 0 to 228158\n",
      "Data columns (total 18 columns):\n",
      " #   Column            Non-Null Count   Dtype  \n",
      "---  ------            --------------   -----  \n",
      " 0   genre             228159 non-null  object \n",
      " 1   artist_name       228159 non-null  object \n",
      " 2   track_name        228159 non-null  object \n",
      " 3   track_id          228159 non-null  object \n",
      " 4   popularity        228159 non-null  int64  \n",
      " 5   acousticness      228159 non-null  float64\n",
      " 6   danceability      228159 non-null  float64\n",
      " 7   duration_ms       228159 non-null  int64  \n",
      " 8   energy            228159 non-null  float64\n",
      " 9   instrumentalness  228159 non-null  float64\n",
      " 10  key               228159 non-null  object \n",
      " 11  liveness          228159 non-null  float64\n",
      " 12  loudness          228159 non-null  float64\n",
      " 13  mode              228159 non-null  object \n",
      " 14  speechiness       228159 non-null  float64\n",
      " 15  tempo             228159 non-null  float64\n",
      " 16  time_signature    228159 non-null  object \n",
      " 17  valence           228159 non-null  float64\n",
      "dtypes: float64(9), int64(2), object(7)\n",
      "memory usage: 31.3+ MB\n"
     ]
    }
   ],
   "source": [
    "df.info()"
   ]
  },
  {
   "cell_type": "code",
   "execution_count": 4,
   "metadata": {},
   "outputs": [
    {
     "name": "stdout",
     "output_type": "stream",
     "text": [
      "Unique Keys ->  12\n"
     ]
    },
    {
     "data": {
      "text/plain": [
       "array(['C#', 'D#', 'C', 'D', 'G#', 'F#', 'B', 'A', 'G', 'E', 'A#', 'F'],\n",
       "      dtype=object)"
      ]
     },
     "execution_count": 4,
     "metadata": {},
     "output_type": "execute_result"
    }
   ],
   "source": [
    "print(\"Unique Keys -> \", len(df.key.unique()))\n",
    "df.key.unique()"
   ]
  },
  {
   "cell_type": "code",
   "execution_count": 5,
   "metadata": {},
   "outputs": [
    {
     "name": "stdout",
     "output_type": "stream",
     "text": [
      "Unique Genres ->  26\n"
     ]
    },
    {
     "data": {
      "text/plain": [
       "array(['Opera', 'A Capella', 'Alternative', 'Blues', 'Dance', 'Pop',\n",
       "       'Electronic', 'R&B', 'Children’s Music', 'Folk', 'Anime', 'Rap',\n",
       "       'Classical', 'Reggae', 'Hip-Hop', 'Comedy', 'Country', 'Reggaeton',\n",
       "       'Ska', 'Indie', 'Rock', 'Soul', 'Soundtrack', 'Jazz', 'World',\n",
       "       'Movie'], dtype=object)"
      ]
     },
     "execution_count": 5,
     "metadata": {},
     "output_type": "execute_result"
    }
   ],
   "source": [
    "print(\"Unique Genres -> \", len(df.genre.unique()))\n",
    "df.genre.unique()"
   ]
  },
  {
   "cell_type": "code",
   "execution_count": 6,
   "metadata": {},
   "outputs": [
    {
     "name": "stdout",
     "output_type": "stream",
     "text": [
      "Unique Artists ->  13318\n"
     ]
    }
   ],
   "source": [
    "print(\"Unique Artists -> \",len(df.artist_name.unique()))"
   ]
  },
  {
   "cell_type": "markdown",
   "metadata": {},
   "source": [
    "## Exploratory Data Analysis"
   ]
  },
  {
   "cell_type": "markdown",
   "metadata": {},
   "source": [
    "- check for bias (across genres, key, mode)\n",
    "- dist of popularity\n",
    "- Correlation Matrix\n",
    "- popularity relation with features (regression)"
   ]
  },
  {
   "cell_type": "markdown",
   "metadata": {},
   "source": [
    "### Checking data balance"
   ]
  },
  {
   "cell_type": "code",
   "execution_count": 7,
   "metadata": {},
   "outputs": [],
   "source": [
    "df1 = df.groupby('genre', as_index=False).size().sort_values(by='size',ascending=True)\n",
    "df2 = df.groupby('key', as_index=False).size().sort_values(by='size',ascending=True)\n",
    "df3 = df.groupby('mode', as_index=False).size().sort_values(by='size',ascending=True)"
   ]
  },
  {
   "cell_type": "code",
   "execution_count": 8,
   "metadata": {},
   "outputs": [
    {
     "data": {
      "text/plain": [
       "Text(0.5, 1.0, 'Number of songs per genre')"
      ]
     },
     "execution_count": 8,
     "metadata": {},
     "output_type": "execute_result"
    },
    {
     "data": {
      "image/png": "[encoded data removed]",
      "text/plain": [
       "<Figure size 842.4x595.44 with 1 Axes>"
      ]
     },
     "metadata": {},
     "output_type": "display_data"
    }
   ],
   "source": [
    "plt.xticks(rotation=90)\n",
    "sns.barplot(x='genre', y='size', data=df1).set_title(\"Number of songs per genre\", fontsize=17)"
   ]
  },
  {
   "cell_type": "code",
   "execution_count": 9,
   "metadata": {},
   "outputs": [
    {
     "data": {
      "text/html": [
       "<div>\n",
       "<style scoped>\n",
       "    .dataframe tbody tr th:only-of-type {\n",
       "        vertical-align: middle;\n",
       "    }\n",
       "\n",
       "    .dataframe tbody tr th {\n",
       "        vertical-align: top;\n",
       "    }\n",
       "\n",
       "    .dataframe thead th {\n",
       "        text-align: right;\n",
       "    }\n",
       "</style>\n",
       "<table border=\"1\" class=\"dataframe\">\n",
       "  <thead>\n",
       "    <tr style=\"text-align: right;\">\n",
       "      <th></th>\n",
       "      <th>genre</th>\n",
       "      <th>size</th>\n",
       "    </tr>\n",
       "  </thead>\n",
       "  <tbody>\n",
       "    <tr>\n",
       "      <th>0</th>\n",
       "      <td>A Capella</td>\n",
       "      <td>119</td>\n",
       "    </tr>\n",
       "    <tr>\n",
       "      <th>14</th>\n",
       "      <td>Movie</td>\n",
       "      <td>7806</td>\n",
       "    </tr>\n",
       "    <tr>\n",
       "      <th>15</th>\n",
       "      <td>Opera</td>\n",
       "      <td>8280</td>\n",
       "    </tr>\n",
       "  </tbody>\n",
       "</table>\n",
       "</div>"
      ],
      "text/plain": [
       "        genre  size\n",
       "0   A Capella   119\n",
       "14      Movie  7806\n",
       "15      Opera  8280"
      ]
     },
     "execution_count": 9,
     "metadata": {},
     "output_type": "execute_result"
    }
   ],
   "source": [
    "df1.head(3)"
   ]
  },
  {
   "cell_type": "code",
   "execution_count": 10,
   "metadata": {},
   "outputs": [
    {
     "data": {
      "text/plain": [
       "Text(0.5, 1.0, 'Number of songs per key')"
      ]
     },
     "execution_count": 10,
     "metadata": {},
     "output_type": "execute_result"
    },
    {
     "data": {
      "image/png": "[encoded data removed]",
      "text/plain": [
       "<Figure size 842.4x595.44 with 1 Axes>"
      ]
     },
     "metadata": {},
     "output_type": "display_data"
    }
   ],
   "source": [
    "sns.barplot(x='key', y='size', data=df2).set_title(\"Number of songs per key\", fontsize=17)"
   ]
  },
  {
   "cell_type": "code",
   "execution_count": 11,
   "metadata": {},
   "outputs": [
    {
     "data": {
      "text/plain": [
       "Text(0.5, 1.0, 'Number of songs per mode')"
      ]
     },
     "execution_count": 11,
     "metadata": {},
     "output_type": "execute_result"
    },
    {
     "data": {
      "image/png": "[encoded data removed]",
      "text/plain": [
       "<Figure size 842.4x595.44 with 1 Axes>"
      ]
     },
     "metadata": {},
     "output_type": "display_data"
    }
   ],
   "source": [
    "sns.barplot(x='mode', y='size', data=df3).set_title(\"Number of songs per mode\", fontsize=17)"
   ]
  },
  {
   "cell_type": "code",
   "execution_count": 12,
   "metadata": {},
   "outputs": [
    {
     "data": {
      "text/plain": [
       "Text(0.5, 1.0, 'Distribution of Popularity')"
      ]
     },
     "execution_count": 12,
     "metadata": {},
     "output_type": "execute_result"
    },
    {
     "data": {
      "image/png": "[encoded data removed]",
      "text/plain": [
       "<Figure size 842.4x595.44 with 1 Axes>"
      ]
     },
     "metadata": {},
     "output_type": "display_data"
    }
   ],
   "source": [
    "# Distribution of popularity score\n",
    "sns.set_context(\"paper\", font_scale=1.5)\n",
    "sns.distplot(df.popularity).set_title(\"Distribution of Popularity\", fontsize=20)"
   ]
  },
  {
   "cell_type": "code",
   "execution_count": null,
   "metadata": {},
   "outputs": [],
   "source": []
  }
 ],
 "metadata": {
  "interpreter": {
   "hash": "e1cc40b1e9e5d27eaac95f7c3cab3b4cbef7315f1363522eb8934cc08cc24d45"
  },
  "kernelspec": {
   "display_name": "Python 3.9.6 64-bit",
   "language": "python",
   "name": "python3"
  },
  "language_info": {
   "codemirror_mode": {
    "name": "ipython",
    "version": 3
   },
   "file_extension": ".py",
   "mimetype": "text/x-python",
   "name": "python",
   "nbconvert_exporter": "python",
   "pygments_lexer": "ipython3",
   "version": "3.9.6"
  },
  "orig_nbformat": 4
 },
 "nbformat": 4,
 "nbformat_minor": 2
}
